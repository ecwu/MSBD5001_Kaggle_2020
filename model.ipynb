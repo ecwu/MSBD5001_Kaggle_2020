{
 "cells": [
  {
   "cell_type": "code",
   "execution_count": 31,
   "metadata": {},
   "outputs": [],
   "source": [
    "import numpy as np\n",
    "import pandas as pd\n",
    "import datetime\n",
    "\n",
    "from sklearn.model_selection import train_test_split\n",
    "from sklearn.metrics import mean_squared_error\n",
    "from sklearn.model_selection import GridSearchCV\n",
    "\n",
    "import xgboost as xgb\n",
    "from xgboost import plot_importance, plot_tree"
   ]
  },
  {
   "cell_type": "code",
   "execution_count": 19,
   "metadata": {},
   "outputs": [],
   "source": [
    "data = pd.read_csv(\"dataset/train.csv\", index_col=[0])\n",
    "test = pd.read_csv(\"dataset/test.csv\", index_col=[0])\n",
    "\n",
    "# convert the date field to datetime object\n",
    "data['date'] = pd.to_datetime(data['date'], format='%d/%m/%Y %H:%M')\n",
    "test['date'] = pd.to_datetime(test['date'], format='%d/%m/%Y %H:%M')"
   ]
  },
  {
   "cell_type": "markdown",
   "metadata": {},
   "source": [
    "## Code for create date features"
   ]
  },
  {
   "cell_type": "code",
   "execution_count": 20,
   "metadata": {},
   "outputs": [],
   "source": [
    "# Feature list\n",
    "features = ['quarter', 'weekofyear', 'month', 'dayofweek', 'day', 'dayofyear', 'hour', 'is_holiday']\n",
    "\n",
    "# Holiday list\n",
    "# https://www.timeanddate.com/holidays/hong-kong/2017\n",
    "# https://www.timeanddate.com/holidays/hong-kong/2018\n",
    "holiday = pd.read_csv('holiday.csv').drop(columns=[\"Unnamed: 4\", \"Unnamed: 5\", \"Unnamed: 6\"])\n",
    "holiday['Date'] = pd.to_datetime(holiday['Date'], format='%Y %d %b')\n",
    "hl = holiday['Date'].to_list()\n",
    "\n",
    "def create_features(df, label=None):\n",
    "    \"\"\"\n",
    "    Creates time series features from datetime index.\n",
    "    \"\"\"\n",
    "    df = df.copy()\n",
    "    df['date'] = df.date\n",
    "    df['hour'] = df['date'].dt.hour\n",
    "    df['dayofweek'] = df['date'].dt.dayofweek\n",
    "    df['quarter'] = df['date'].dt.quarter\n",
    "    df['day'] = df['date'].dt.day\n",
    "    df['month'] = df['date'].dt.month\n",
    "    df['year'] = df['date'].dt.year\n",
    "    df['dayofyear'] = df['date'].dt.dayofyear\n",
    "    df['weekofyear'] = df['date'].dt.isocalendar().week\n",
    "    # True if the date is in holiday list, else False\n",
    "    df['is_holiday'] = np.where(df['date'].isin(hl), True, False)\n",
    "    \n",
    "    X = df[features]\n",
    "    \n",
    "    # If label exist, also return the label column as y\n",
    "    if label:\n",
    "        y = df[label]\n",
    "        return X.to_numpy(), y\n",
    "    return X.to_numpy()\n",
    "\n",
    "# Testing set\n",
    "test_x = create_features(test)"
   ]
  },
  {
   "cell_type": "markdown",
   "metadata": {},
   "source": [
    "## Prepare Data"
   ]
  },
  {
   "cell_type": "code",
   "execution_count": 96,
   "metadata": {},
   "outputs": [],
   "source": [
    "start = pd.to_datetime(datetime.datetime.strptime(\"1/1/2017\", '%d/%m/%Y').date())\n",
    "end = pd.to_datetime(datetime.datetime.strptime(\"1/1/2018\", '%d/%m/%Y').date())\n",
    "mask = (data['date'] >= start) & (data['date'] < end)\n",
    "# Split way no.1 Train: 2017, Validation: 2018\n",
    "train = data.loc[mask]\n",
    "val = data.loc[~mask]\n",
    "\n",
    "train_x, train_y = create_features(train, label='speed')\n",
    "val_x, val_y = create_features(val, label='speed')\n",
    "\n",
    "# Split way no.2 Random Split, with test size 0.2\n",
    "data_X, y = create_features(data, label='speed')\n",
    "X_train, X_test, y_train, y_test = train_test_split(data_X, y, test_size=0.15, random_state=42)"
   ]
  },
  {
   "cell_type": "code",
   "execution_count": 156,
   "metadata": {},
   "outputs": [
    {
     "data": {
      "text/plain": [
       "11.73952232119082"
      ]
     },
     "execution_count": 156,
     "metadata": {},
     "output_type": "execute_result"
    }
   ],
   "source": [
    "# xgb_model = xgb.XGBRegressor(objective=\"reg:squarederror\", seed=42, n_estimators=1000, subsample=0.8)\n",
    "# xgb_model = xgb.XGBRegressor(objective=\"reg:squarederror\", seed=42, subsample=0.8)\n",
    "xgb_model = xgb.XGBRegressor(objective=\"reg:squarederror\", seed=42, subsample=0.8,\n",
    "                             max_depth=8, learning_rate=0.075, gamma=0.25, n_estimators=1000)\n",
    "\n",
    "# xgb_model = xgb.XGBRegressor(objective=\"reg:squarederror\", seed=42, subsample=0.8,\n",
    "#                              max_depth=8, learning_rate=0.075, gamma=0.25, n_estimators=1000,\n",
    "#                              min_child_weight=20, colsample_bytree=0.8)\n",
    "\n",
    "xgb_model.fit(X_train, y_train, early_stopping_rounds=10, eval_metric='rmse', eval_set=[(X_train, y_train), (X_test, y_test)], verbose=False)\n",
    "\n",
    "# test_x = np.array(test_x)\n",
    "# y_pred = xgb_model.predict(val_x)\n",
    "\n",
    "# mse=mean_squared_error(y_pred, val_y)\n",
    "\n",
    "y_pred = xgb_model.predict(X_test)\n",
    "\n",
    "mse=mean_squared_error(y_pred, y_test)\n",
    "mse"
   ]
  },
  {
   "cell_type": "markdown",
   "metadata": {},
   "source": [
    "## GridSearchCV"
   ]
  },
  {
   "cell_type": "code",
   "execution_count": 134,
   "metadata": {},
   "outputs": [],
   "source": [
    "# First set of the grid search parameters\n",
    "# param_grid = {\n",
    "#     'max_depth': [3,4,5],\n",
    "#     'learning_rate': [0.1, 0.01, 0.05],\n",
    "#     'gamma': [0, 0.25, 1.0]\n",
    "# }\n",
    "\n",
    "# Second set of the grid search parameters\n",
    "# param_grid = {\n",
    "#     'max_depth': [5,6,7,8,9,10],\n",
    "#     'learning_rate': [0.05, 0.075, 0.025],\n",
    "#     'gamma': [0.25]\n",
    "# }\n",
    "\n",
    "# Third set of the grid search parameters\n",
    "param_grid = {\n",
    "    'max_depth': [7,8,9],\n",
    "    'learning_rate': [0.1, 0.075, 0.08, 0.09],\n",
    "    'gamma': [0.25]\n",
    "}"
   ]
  },
  {
   "cell_type": "code",
   "execution_count": 135,
   "metadata": {},
   "outputs": [],
   "source": [
    "best_parameters = GridSearchCV(\n",
    "    estimator=xgb.XGBRegressor(objective=\"reg:squarederror\", seed=42, subsample=0.8, n_estimators=1000),\n",
    "    param_grid=param_grid,\n",
    "    scoring='neg_mean_squared_error',\n",
    "    verbose=2,\n",
    "    n_jobs=12,\n",
    "    cv=3\n",
    ")"
   ]
  },
  {
   "cell_type": "code",
   "execution_count": 136,
   "metadata": {},
   "outputs": [
    {
     "name": "stdout",
     "output_type": "stream",
     "text": [
      "Fitting 3 folds for each of 12 candidates, totalling 36 fits\n"
     ]
    },
    {
     "name": "stderr",
     "output_type": "stream",
     "text": [
      "[Parallel(n_jobs=12)]: Using backend LokyBackend with 12 concurrent workers.\n",
      "[Parallel(n_jobs=12)]: Done  32 out of  36 | elapsed:    7.5s remaining:    0.9s\n",
      "[Parallel(n_jobs=12)]: Done  36 out of  36 | elapsed:    7.8s finished\n"
     ]
    },
    {
     "data": {
      "text/plain": [
       "{'gamma': 0.25, 'learning_rate': 0.075, 'max_depth': 8}"
      ]
     },
     "execution_count": 136,
     "metadata": {},
     "output_type": "execute_result"
    }
   ],
   "source": [
    "best_parameters.fit(X_train, y_train, early_stopping_rounds=10,\n",
    "                    eval_metric='rmse', eval_set=[(X_train, y_train), (X_test, y_test)], verbose=False)\n",
    "best_parameters.best_params_"
   ]
  },
  {
   "cell_type": "markdown",
   "metadata": {},
   "source": [
    "## Error Analysis"
   ]
  },
  {
   "cell_type": "code",
   "execution_count": 6,
   "metadata": {},
   "outputs": [],
   "source": [
    "def error_evaluation(input_, prediction, ground_truth):\n",
    "    \n",
    "    # Error by hour\n",
    "    error_by_hour = dict()\n",
    "    hour_index = 6\n",
    "    for i in range(len(input_)):\n",
    "        error = abs(prediction[i] - ground_truth[i]) ** 2\n",
    "        try:\n",
    "            error_by_hour[input_[i][hour_index]].append(error)\n",
    "        except KeyError:\n",
    "            error_by_hour[input_[i][hour_index]] = [error]\n",
    "            \n",
    "    for k, v in error_by_hour.items():\n",
    "        error_by_hour[k] = np.array(v).mean()\n",
    "    pd.DataFrame(error_by_hour, index=[0]).T.sort_index().plot(kind='bar')\n",
    "    \n",
    "    # Error by weekday\n",
    "    error_by_weekday = dict()\n",
    "    wd_index = 3\n",
    "    for i in range(len(input_)):\n",
    "        error = abs(prediction[i] - ground_truth[i]) ** 2\n",
    "        try:\n",
    "            error_by_weekday[input_[i][wd_index]].append(error)\n",
    "        except KeyError:\n",
    "            error_by_weekday[input_[i][wd_index]] = [error]\n",
    "            \n",
    "    for k, v in error_by_weekday.items():\n",
    "        error_by_weekday[k] = np.array(v).mean()\n",
    "    pd.DataFrame(error_by_weekday, index=[0]).T.sort_index().plot(kind='bar')\n",
    "    \n",
    "    # Error by month\n",
    "    error_by_dm = dict()\n",
    "    dm_index = 2\n",
    "    for i in range(len(input_)):\n",
    "        error = abs(prediction[i] - ground_truth[i]) ** 2\n",
    "        try:\n",
    "            error_by_dm[input_[i][dm_index]].append(error)\n",
    "        except KeyError:\n",
    "            error_by_dm[input_[i][dm_index]] = [error]\n",
    "            \n",
    "    for k, v in error_by_dm.items():\n",
    "        error_by_dm[k] = np.array(v).mean()\n",
    "    pd.DataFrame(error_by_dm, index=[0]).T.sort_index().plot(kind='bar')\n",
    "    \n",
    "    return error_by_weekday, error_by_hour, error_by_dm"
   ]
  },
  {
   "cell_type": "code",
   "execution_count": 73,
   "metadata": {},
   "outputs": [
    {
     "data": {
      "image/png": "[encoded data removed]",
      "text/plain": [
       "<Figure size 432x288 with 1 Axes>"
      ]
     },
     "metadata": {
      "needs_background": "light"
     },
     "output_type": "display_data"
    },
    {
     "data": {
      "image/png": "[encoded data removed]",
      "text/plain": [
       "<Figure size 432x288 with 1 Axes>"
      ]
     },
     "metadata": {
      "needs_background": "light"
     },
     "output_type": "display_data"
    },
    {
     "data": {
      "image/png": "[encoded data removed]",
      "text/plain": [
       "<Figure size 432x288 with 1 Axes>"
      ]
     },
     "metadata": {
      "needs_background": "light"
     },
     "output_type": "display_data"
    },
    {
     "data": {
      "image/png": "[encoded data removed]",
      "text/plain": [
       "<Figure size 432x288 with 1 Axes>"
      ]
     },
     "metadata": {
      "needs_background": "light"
     },
     "output_type": "display_data"
    }
   ],
   "source": [
    "_ = plot_importance(xgb_model, height=0.9)\n",
    "_ = error_evaluation(X_test, list(y_pred), list(y_test))"
   ]
  },
  {
   "cell_type": "markdown",
   "metadata": {},
   "source": [
    "## Prediction on Testing data"
   ]
  },
  {
   "cell_type": "code",
   "execution_count": 139,
   "metadata": {},
   "outputs": [],
   "source": [
    "test_y_pred = xgb_model.predict(test_x)\n",
    "prediction_file_name = 'zwubq_8_20201205.csv'\n",
    "pd.DataFrame(test_y_pred).rename({0: 'speed'}, axis=1).to_csv(prediction_file_name, index=True)\n",
    "pd.read_csv(prediction_file_name, index_col=None).rename({'Unnamed: 0': 'id'}, axis=1).to_csv(prediction_file_name, index=False)"
   ]
  },
  {
   "cell_type": "code",
   "execution_count": null,
   "metadata": {},
   "outputs": [],
   "source": []
  }
 ],
 "metadata": {
  "kernelspec": {
   "display_name": "Python 3",
   "language": "python",
   "name": "python3"
  },
  "language_info": {
   "codemirror_mode": {
    "name": "ipython",
    "version": 3
   },
   "file_extension": ".py",
   "mimetype": "text/x-python",
   "name": "python",
   "nbconvert_exporter": "python",
   "pygments_lexer": "ipython3",
   "version": "3.7.6"
  }
 },
 "nbformat": 4,
 "nbformat_minor": 4
}
