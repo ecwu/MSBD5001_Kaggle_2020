{
 "cells": [
  {
   "cell_type": "code",
   "execution_count": 1,
   "metadata": {},
   "outputs": [],
   "source": [
    "import numpy as np\n",
    "import pandas as pd\n",
    "import datetime\n",
    "\n",
    "from sklearn.model_selection import train_test_split\n",
    "from sklearn.metrics import mean_squared_error\n",
    "\n",
    "import xgboost as xgb\n",
    "from xgboost import plot_importance, plot_tree"
   ]
  },
  {
   "cell_type": "code",
   "execution_count": 2,
   "metadata": {},
   "outputs": [],
   "source": [
    "data = pd.read_csv(\"dataset/train.csv\", index_col=[0])\n",
    "test = pd.read_csv(\"dataset/test.csv\", index_col=[0])\n",
    "\n",
    "# convert the date field to datetime object\n",
    "data['date'] = pd.to_datetime(data['date'], format='%d/%m/%Y %H:%M')\n",
    "test['date'] = pd.to_datetime(test['date'], format='%d/%m/%Y %H:%M')"
   ]
  },
  {
   "cell_type": "markdown",
   "metadata": {},
   "source": [
    "## Code for create date features"
   ]
  },
  {
   "cell_type": "code",
   "execution_count": 3,
   "metadata": {},
   "outputs": [],
   "source": [
    "# Feature list\n",
    "features = ['quarter', 'weekofyear', 'month', 'dayofweek', 'day', 'dayofyear', 'hour', 'is_holiday']\n",
    "\n",
    "# Holiday list\n",
    "# https://www.timeanddate.com/holidays/hong-kong/2017\n",
    "# https://www.timeanddate.com/holidays/hong-kong/2018\n",
    "holiday = pd.read_csv('holiday.csv').drop(columns=[\"Unnamed: 4\", \"Unnamed: 5\", \"Unnamed: 6\"])\n",
    "holiday['Date'] = pd.to_datetime(holiday['Date'], format='%Y %d %b')\n",
    "hl = holiday['Date'].to_list()\n",
    "\n",
    "def create_features(df, label=None):\n",
    "    \"\"\"\n",
    "    Creates time series features from datetime index.\n",
    "    \"\"\"\n",
    "    df = df.copy()\n",
    "    df['date'] = df.date\n",
    "    df['hour'] = df['date'].dt.hour\n",
    "    df['dayofweek'] = df['date'].dt.dayofweek\n",
    "    df['quarter'] = df['date'].dt.quarter\n",
    "    df['day'] = df['date'].dt.day\n",
    "    df['month'] = df['date'].dt.month\n",
    "    df['year'] = df['date'].dt.year\n",
    "    df['dayofyear'] = df['date'].dt.dayofyear\n",
    "    df['weekofyear'] = df['date'].dt.isocalendar().week\n",
    "    # True if the date is in holiday list, else False\n",
    "    df['is_holiday'] = np.where(df['date'].isin(hl), 1, 0)\n",
    "    \n",
    "    X = df[features]\n",
    "    \n",
    "    # If label exist, also return the label column as y\n",
    "    if label:\n",
    "        y = df[label]\n",
    "        return X.to_numpy(), y\n",
    "    return X.to_numpy()\n",
    "\n",
    "# Testing set\n",
    "test_x = create_features(test)"
   ]
  },
  {
   "cell_type": "markdown",
   "metadata": {},
   "source": [
    "## Prepare Data"
   ]
  },
  {
   "cell_type": "code",
   "execution_count": 4,
   "metadata": {},
   "outputs": [],
   "source": [
    "start = pd.to_datetime(datetime.datetime.strptime(\"1/1/2017\", '%d/%m/%Y').date())\n",
    "end = pd.to_datetime(datetime.datetime.strptime(\"1/1/2018\", '%d/%m/%Y').date())\n",
    "mask = (data['date'] >= start) & (data['date'] < end)\n",
    "# Split way no.1 Train: 2017, Validation: 2018\n",
    "train = data.loc[mask]\n",
    "val = data.loc[~mask]\n",
    "\n",
    "train_x, train_y = create_features(train, label='speed')\n",
    "val_x, val_y = create_features(val, label='speed')\n",
    "\n",
    "# Split way no.2 Random Split, with test size 0.2\n",
    "data_X, y = create_features(data, label='speed')\n",
    "X_train, X_test, y_train, y_test = train_test_split(data_X, y, test_size=0.20, random_state=42)"
   ]
  },
  {
   "cell_type": "code",
   "execution_count": 5,
   "metadata": {},
   "outputs": [
    {
     "data": {
      "text/plain": [
       "12.062001076641044"
      ]
     },
     "execution_count": 5,
     "metadata": {},
     "output_type": "execute_result"
    }
   ],
   "source": [
    "xgb_model = xgb.XGBRegressor(objective=\"reg:squarederror\", random_state=2020, n_estimators=1000) # 12\n",
    "\n",
    "xgb_model.fit(X_train, y_train, early_stopping_rounds=50, eval_set=[(X_train, y_train), (X_test, y_test)], verbose=False)\n",
    "\n",
    "# test_x = np.array(test_x)\n",
    "# y_pred = xgb_model.predict(val_x)\n",
    "\n",
    "# mse=mean_squared_error(y_pred, val_y)\n",
    "\n",
    "y_pred = xgb_model.predict(X_test)\n",
    "\n",
    "mse=mean_squared_error(y_pred, y_test)\n",
    "mse"
   ]
  },
  {
   "cell_type": "markdown",
   "metadata": {},
   "source": [
    "## Error Analysis"
   ]
  },
  {
   "cell_type": "code",
   "execution_count": 6,
   "metadata": {},
   "outputs": [],
   "source": [
    "def error_evaluation(input_, prediction, ground_truth):\n",
    "    \n",
    "    # Error by hour\n",
    "    error_by_hour = dict()\n",
    "    hour_index = 6\n",
    "    for i in range(len(input_)):\n",
    "        error = abs(prediction[i] - ground_truth[i]) ** 2\n",
    "        try:\n",
    "            error_by_hour[input_[i][hour_index]].append(error)\n",
    "        except KeyError:\n",
    "            error_by_hour[input_[i][hour_index]] = [error]\n",
    "            \n",
    "    for k, v in error_by_hour.items():\n",
    "        error_by_hour[k] = np.array(v).mean()\n",
    "    pd.DataFrame(error_by_hour, index=[0]).T.sort_index().plot(kind='bar')\n",
    "    \n",
    "    # Error by weekday\n",
    "    error_by_weekday = dict()\n",
    "    wd_index = 3\n",
    "    for i in range(len(input_)):\n",
    "        error = abs(prediction[i] - ground_truth[i]) ** 2\n",
    "        try:\n",
    "            error_by_weekday[input_[i][wd_index]].append(error)\n",
    "        except KeyError:\n",
    "            error_by_weekday[input_[i][wd_index]] = [error]\n",
    "            \n",
    "    for k, v in error_by_weekday.items():\n",
    "        error_by_weekday[k] = np.array(v).mean()\n",
    "    pd.DataFrame(error_by_weekday, index=[0]).T.sort_index().plot(kind='bar')\n",
    "    \n",
    "    # Error by month\n",
    "    error_by_dm = dict()\n",
    "    dm_index = 2\n",
    "    for i in range(len(input_)):\n",
    "        error = abs(prediction[i] - ground_truth[i]) ** 2\n",
    "        try:\n",
    "            error_by_dm[input_[i][dm_index]].append(error)\n",
    "        except KeyError:\n",
    "            error_by_dm[input_[i][dm_index]] = [error]\n",
    "            \n",
    "    for k, v in error_by_dm.items():\n",
    "        error_by_dm[k] = np.array(v).mean()\n",
    "    pd.DataFrame(error_by_dm, index=[0]).T.sort_index().plot(kind='bar')\n",
    "    \n",
    "    return error_by_weekday, error_by_hour, error_by_dm"
   ]
  },
  {
   "cell_type": "code",
   "execution_count": 7,
   "metadata": {},
   "outputs": [
    {
     "data": {
      "image/png": "[encoded data removed]",
      "text/plain": [
       "<Figure size 432x288 with 1 Axes>"
      ]
     },
     "metadata": {
      "needs_background": "light"
     },
     "output_type": "display_data"
    },
    {
     "data": {
      "image/png": "[encoded data removed]",
      "text/plain": [
       "<Figure size 432x288 with 1 Axes>"
      ]
     },
     "metadata": {
      "needs_background": "light"
     },
     "output_type": "display_data"
    },
    {
     "data": {
      "image/png": "[encoded data removed]",
      "text/plain": [
       "<Figure size 432x288 with 1 Axes>"
      ]
     },
     "metadata": {
      "needs_background": "light"
     },
     "output_type": "display_data"
    },
    {
     "data": {
      "image/png": "[encoded data removed]",
      "text/plain": [
       "<Figure size 432x288 with 1 Axes>"
      ]
     },
     "metadata": {
      "needs_background": "light"
     },
     "output_type": "display_data"
    }
   ],
   "source": [
    "_ = plot_importance(xgb_model, height=0.9)\n",
    "_ = error_evaluation(X_test, list(y_pred), list(y_test))"
   ]
  },
  {
   "cell_type": "markdown",
   "metadata": {},
   "source": [
    "## Prediction on Testing data"
   ]
  },
  {
   "cell_type": "code",
   "execution_count": 17,
   "metadata": {},
   "outputs": [],
   "source": [
    "test_y_pred = xgb_model.predict(test_x)\n",
    "prediction_file_name = 'test_4_20201204.csv'\n",
    "pd.DataFrame(test_y_pred).rename({0: 'speed'}, axis=1).to_csv(prediction_file_name, index=True)\n",
    "pd.read_csv(prediction_file_name, index_col=None).rename({'Unnamed: 0': 'id'}, axis=1).to_csv(prediction_file_name, index=False)"
   ]
  },
  {
   "cell_type": "code",
   "execution_count": null,
   "metadata": {},
   "outputs": [],
   "source": []
  }
 ],
 "metadata": {
  "kernelspec": {
   "display_name": "Python 3",
   "language": "python",
   "name": "python3"
  },
  "language_info": {
   "codemirror_mode": {
    "name": "ipython",
    "version": 3
   },
   "file_extension": ".py",
   "mimetype": "text/x-python",
   "name": "python",
   "nbconvert_exporter": "python",
   "pygments_lexer": "ipython3",
   "version": "3.7.6"
  }
 },
 "nbformat": 4,
 "nbformat_minor": 4
}
